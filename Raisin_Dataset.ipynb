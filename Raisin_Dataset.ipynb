{
  "nbformat": 4,
  "nbformat_minor": 0,
  "metadata": {
    "colab": {
      "provenance": [],
      "authorship_tag": "ABX9TyM0JHhWq+8YmJxMPyjs3LxR",
      "include_colab_link": true
    },
    "kernelspec": {
      "name": "python3",
      "display_name": "Python 3"
    },
    "language_info": {
      "name": "python"
    }
  },
  "cells": [
    {
      "cell_type": "markdown",
      "metadata": {
        "id": "view-in-github",
        "colab_type": "text"
      },
      "source": [
        "<a href=\"https://colab.research.google.com/github/ReginaDivaDharma/raisin-analysis-SVM/blob/main/Raisin_Dataset.ipynb\" target=\"_parent\"><img src=\"https://colab.research.google.com/assets/colab-badge.svg\" alt=\"Open In Colab\"/></a>"
      ]
    },
    {
      "cell_type": "code",
      "execution_count": null,
      "metadata": {
        "colab": {
          "base_uri": "https://localhost:8080/"
        },
        "id": "4-dm15Tisi5i",
        "outputId": "08911455-27a8-4545-b27d-ec991fe4deb4"
      },
      "outputs": [
        {
          "output_type": "stream",
          "name": "stdout",
          "text": [
            "Looking in indexes: https://pypi.org/simple, https://us-python.pkg.dev/colab-wheels/public/simple/\n",
            "Requirement already satisfied: openpyxl in /usr/local/lib/python3.8/dist-packages (3.0.10)\n",
            "Requirement already satisfied: et-xmlfile in /usr/local/lib/python3.8/dist-packages (from openpyxl) (1.1.0)\n"
          ]
        }
      ],
      "source": [
        "# Libraries\n",
        "import numpy as np\n",
        "import pandas as pd\n",
        "import matplotlib.pyplot as plt\n",
        "\n",
        "# SVM libraries\n",
        "from sklearn.preprocessing import StandardScaler\n",
        "from sklearn.model_selection import train_test_split\n",
        "from sklearn.svm import SVC, SVR\n",
        "from sklearn.datasets import load_digits\n",
        "from sklearn.metrics import classification_report\n",
        "\n",
        "# Install to use read_excel\n",
        "!pip install openpyxl"
      ]
    },
    {
      "cell_type": "code",
      "source": [
        "# Read data set\n",
        "data = pd.read_excel('Raisin_Dataset.xlsx', sheet_name = 'Raisin_Dataset')\n",
        "data"
      ],
      "metadata": {
        "colab": {
          "base_uri": "https://localhost:8080/",
          "height": 423
        },
        "id": "DiK8LVO_tMPS",
        "outputId": "300ca1d9-8121-4a43-d7e6-673f5a6ee977"
      },
      "execution_count": null,
      "outputs": [
        {
          "output_type": "execute_result",
          "data": {
            "text/plain": [
              "      Area  MajorAxisLength  MinorAxisLength  Eccentricity  ConvexArea  \\\n",
              "0    87524       442.246011       253.291155      0.819738       90546   \n",
              "1    75166       406.690687       243.032436      0.801805       78789   \n",
              "2    90856       442.267048       266.328318      0.798354       93717   \n",
              "3    45928       286.540559       208.760042      0.684989       47336   \n",
              "4    79408       352.190770       290.827533      0.564011       81463   \n",
              "..     ...              ...              ...           ...         ...   \n",
              "895  83248       430.077308       247.838695      0.817263       85839   \n",
              "896  87350       440.735698       259.293149      0.808629       90899   \n",
              "897  99657       431.706981       298.837323      0.721684      106264   \n",
              "898  93523       476.344094       254.176054      0.845739       97653   \n",
              "899  85609       512.081774       215.271976      0.907345       89197   \n",
              "\n",
              "       Extent  Perimeter    Class  \n",
              "0    0.758651   1184.040  Kecimen  \n",
              "1    0.684130   1121.786  Kecimen  \n",
              "2    0.637613   1208.575  Kecimen  \n",
              "3    0.699599    844.162  Kecimen  \n",
              "4    0.792772   1073.251  Kecimen  \n",
              "..        ...        ...      ...  \n",
              "895  0.668793   1129.072    Besni  \n",
              "896  0.636476   1214.252    Besni  \n",
              "897  0.741099   1292.828    Besni  \n",
              "898  0.658798   1258.548    Besni  \n",
              "899  0.632020   1272.862    Besni  \n",
              "\n",
              "[900 rows x 8 columns]"
            ],
            "text/html": [
              "\n",
              "  <div id=\"df-0233f485-3fec-411a-a640-217903975a4b\">\n",
              "    <div class=\"colab-df-container\">\n",
              "      <div>\n",
              "<style scoped>\n",
              "    .dataframe tbody tr th:only-of-type {\n",
              "        vertical-align: middle;\n",
              "    }\n",
              "\n",
              "    .dataframe tbody tr th {\n",
              "        vertical-align: top;\n",
              "    }\n",
              "\n",
              "    .dataframe thead th {\n",
              "        text-align: right;\n",
              "    }\n",
              "</style>\n",
              "<table border=\"1\" class=\"dataframe\">\n",
              "  <thead>\n",
              "    <tr style=\"text-align: right;\">\n",
              "      <th></th>\n",
              "      <th>Area</th>\n",
              "      <th>MajorAxisLength</th>\n",
              "      <th>MinorAxisLength</th>\n",
              "      <th>Eccentricity</th>\n",
              "      <th>ConvexArea</th>\n",
              "      <th>Extent</th>\n",
              "      <th>Perimeter</th>\n",
              "      <th>Class</th>\n",
              "    </tr>\n",
              "  </thead>\n",
              "  <tbody>\n",
              "    <tr>\n",
              "      <th>0</th>\n",
              "      <td>87524</td>\n",
              "      <td>442.246011</td>\n",
              "      <td>253.291155</td>\n",
              "      <td>0.819738</td>\n",
              "      <td>90546</td>\n",
              "      <td>0.758651</td>\n",
              "      <td>1184.040</td>\n",
              "      <td>Kecimen</td>\n",
              "    </tr>\n",
              "    <tr>\n",
              "      <th>1</th>\n",
              "      <td>75166</td>\n",
              "      <td>406.690687</td>\n",
              "      <td>243.032436</td>\n",
              "      <td>0.801805</td>\n",
              "      <td>78789</td>\n",
              "      <td>0.684130</td>\n",
              "      <td>1121.786</td>\n",
              "      <td>Kecimen</td>\n",
              "    </tr>\n",
              "    <tr>\n",
              "      <th>2</th>\n",
              "      <td>90856</td>\n",
              "      <td>442.267048</td>\n",
              "      <td>266.328318</td>\n",
              "      <td>0.798354</td>\n",
              "      <td>93717</td>\n",
              "      <td>0.637613</td>\n",
              "      <td>1208.575</td>\n",
              "      <td>Kecimen</td>\n",
              "    </tr>\n",
              "    <tr>\n",
              "      <th>3</th>\n",
              "      <td>45928</td>\n",
              "      <td>286.540559</td>\n",
              "      <td>208.760042</td>\n",
              "      <td>0.684989</td>\n",
              "      <td>47336</td>\n",
              "      <td>0.699599</td>\n",
              "      <td>844.162</td>\n",
              "      <td>Kecimen</td>\n",
              "    </tr>\n",
              "    <tr>\n",
              "      <th>4</th>\n",
              "      <td>79408</td>\n",
              "      <td>352.190770</td>\n",
              "      <td>290.827533</td>\n",
              "      <td>0.564011</td>\n",
              "      <td>81463</td>\n",
              "      <td>0.792772</td>\n",
              "      <td>1073.251</td>\n",
              "      <td>Kecimen</td>\n",
              "    </tr>\n",
              "    <tr>\n",
              "      <th>...</th>\n",
              "      <td>...</td>\n",
              "      <td>...</td>\n",
              "      <td>...</td>\n",
              "      <td>...</td>\n",
              "      <td>...</td>\n",
              "      <td>...</td>\n",
              "      <td>...</td>\n",
              "      <td>...</td>\n",
              "    </tr>\n",
              "    <tr>\n",
              "      <th>895</th>\n",
              "      <td>83248</td>\n",
              "      <td>430.077308</td>\n",
              "      <td>247.838695</td>\n",
              "      <td>0.817263</td>\n",
              "      <td>85839</td>\n",
              "      <td>0.668793</td>\n",
              "      <td>1129.072</td>\n",
              "      <td>Besni</td>\n",
              "    </tr>\n",
              "    <tr>\n",
              "      <th>896</th>\n",
              "      <td>87350</td>\n",
              "      <td>440.735698</td>\n",
              "      <td>259.293149</td>\n",
              "      <td>0.808629</td>\n",
              "      <td>90899</td>\n",
              "      <td>0.636476</td>\n",
              "      <td>1214.252</td>\n",
              "      <td>Besni</td>\n",
              "    </tr>\n",
              "    <tr>\n",
              "      <th>897</th>\n",
              "      <td>99657</td>\n",
              "      <td>431.706981</td>\n",
              "      <td>298.837323</td>\n",
              "      <td>0.721684</td>\n",
              "      <td>106264</td>\n",
              "      <td>0.741099</td>\n",
              "      <td>1292.828</td>\n",
              "      <td>Besni</td>\n",
              "    </tr>\n",
              "    <tr>\n",
              "      <th>898</th>\n",
              "      <td>93523</td>\n",
              "      <td>476.344094</td>\n",
              "      <td>254.176054</td>\n",
              "      <td>0.845739</td>\n",
              "      <td>97653</td>\n",
              "      <td>0.658798</td>\n",
              "      <td>1258.548</td>\n",
              "      <td>Besni</td>\n",
              "    </tr>\n",
              "    <tr>\n",
              "      <th>899</th>\n",
              "      <td>85609</td>\n",
              "      <td>512.081774</td>\n",
              "      <td>215.271976</td>\n",
              "      <td>0.907345</td>\n",
              "      <td>89197</td>\n",
              "      <td>0.632020</td>\n",
              "      <td>1272.862</td>\n",
              "      <td>Besni</td>\n",
              "    </tr>\n",
              "  </tbody>\n",
              "</table>\n",
              "<p>900 rows × 8 columns</p>\n",
              "</div>\n",
              "      <button class=\"colab-df-convert\" onclick=\"convertToInteractive('df-0233f485-3fec-411a-a640-217903975a4b')\"\n",
              "              title=\"Convert this dataframe to an interactive table.\"\n",
              "              style=\"display:none;\">\n",
              "        \n",
              "  <svg xmlns=\"http://www.w3.org/2000/svg\" height=\"24px\"viewBox=\"0 0 24 24\"\n",
              "       width=\"24px\">\n",
              "    <path d=\"M0 0h24v24H0V0z\" fill=\"none\"/>\n",
              "    <path d=\"M18.56 5.44l.94 2.06.94-2.06 2.06-.94-2.06-.94-.94-2.06-.94 2.06-2.06.94zm-11 1L8.5 8.5l.94-2.06 2.06-.94-2.06-.94L8.5 2.5l-.94 2.06-2.06.94zm10 10l.94 2.06.94-2.06 2.06-.94-2.06-.94-.94-2.06-.94 2.06-2.06.94z\"/><path d=\"M17.41 7.96l-1.37-1.37c-.4-.4-.92-.59-1.43-.59-.52 0-1.04.2-1.43.59L10.3 9.45l-7.72 7.72c-.78.78-.78 2.05 0 2.83L4 21.41c.39.39.9.59 1.41.59.51 0 1.02-.2 1.41-.59l7.78-7.78 2.81-2.81c.8-.78.8-2.07 0-2.86zM5.41 20L4 18.59l7.72-7.72 1.47 1.35L5.41 20z\"/>\n",
              "  </svg>\n",
              "      </button>\n",
              "      \n",
              "  <style>\n",
              "    .colab-df-container {\n",
              "      display:flex;\n",
              "      flex-wrap:wrap;\n",
              "      gap: 12px;\n",
              "    }\n",
              "\n",
              "    .colab-df-convert {\n",
              "      background-color: #E8F0FE;\n",
              "      border: none;\n",
              "      border-radius: 50%;\n",
              "      cursor: pointer;\n",
              "      display: none;\n",
              "      fill: #1967D2;\n",
              "      height: 32px;\n",
              "      padding: 0 0 0 0;\n",
              "      width: 32px;\n",
              "    }\n",
              "\n",
              "    .colab-df-convert:hover {\n",
              "      background-color: #E2EBFA;\n",
              "      box-shadow: 0px 1px 2px rgba(60, 64, 67, 0.3), 0px 1px 3px 1px rgba(60, 64, 67, 0.15);\n",
              "      fill: #174EA6;\n",
              "    }\n",
              "\n",
              "    [theme=dark] .colab-df-convert {\n",
              "      background-color: #3B4455;\n",
              "      fill: #D2E3FC;\n",
              "    }\n",
              "\n",
              "    [theme=dark] .colab-df-convert:hover {\n",
              "      background-color: #434B5C;\n",
              "      box-shadow: 0px 1px 3px 1px rgba(0, 0, 0, 0.15);\n",
              "      filter: drop-shadow(0px 1px 2px rgba(0, 0, 0, 0.3));\n",
              "      fill: #FFFFFF;\n",
              "    }\n",
              "  </style>\n",
              "\n",
              "      <script>\n",
              "        const buttonEl =\n",
              "          document.querySelector('#df-0233f485-3fec-411a-a640-217903975a4b button.colab-df-convert');\n",
              "        buttonEl.style.display =\n",
              "          google.colab.kernel.accessAllowed ? 'block' : 'none';\n",
              "\n",
              "        async function convertToInteractive(key) {\n",
              "          const element = document.querySelector('#df-0233f485-3fec-411a-a640-217903975a4b');\n",
              "          const dataTable =\n",
              "            await google.colab.kernel.invokeFunction('convertToInteractive',\n",
              "                                                     [key], {});\n",
              "          if (!dataTable) return;\n",
              "\n",
              "          const docLinkHtml = 'Like what you see? Visit the ' +\n",
              "            '<a target=\"_blank\" href=https://colab.research.google.com/notebooks/data_table.ipynb>data table notebook</a>'\n",
              "            + ' to learn more about interactive tables.';\n",
              "          element.innerHTML = '';\n",
              "          dataTable['output_type'] = 'display_data';\n",
              "          await google.colab.output.renderOutput(dataTable, element);\n",
              "          const docLink = document.createElement('div');\n",
              "          docLink.innerHTML = docLinkHtml;\n",
              "          element.appendChild(docLink);\n",
              "        }\n",
              "      </script>\n",
              "    </div>\n",
              "  </div>\n",
              "  "
            ]
          },
          "metadata": {},
          "execution_count": 2
        }
      ]
    },
    {
      "cell_type": "code",
      "source": [
        "# Data frame structure\n",
        "data.info()"
      ],
      "metadata": {
        "colab": {
          "base_uri": "https://localhost:8080/"
        },
        "id": "54WnColUuCyp",
        "outputId": "474f269a-cf60-41df-e622-9425b45b7251"
      },
      "execution_count": null,
      "outputs": [
        {
          "output_type": "stream",
          "name": "stdout",
          "text": [
            "<class 'pandas.core.frame.DataFrame'>\n",
            "RangeIndex: 900 entries, 0 to 899\n",
            "Data columns (total 8 columns):\n",
            " #   Column           Non-Null Count  Dtype  \n",
            "---  ------           --------------  -----  \n",
            " 0   Area             900 non-null    int64  \n",
            " 1   MajorAxisLength  900 non-null    float64\n",
            " 2   MinorAxisLength  900 non-null    float64\n",
            " 3   Eccentricity     900 non-null    float64\n",
            " 4   ConvexArea       900 non-null    int64  \n",
            " 5   Extent           900 non-null    float64\n",
            " 6   Perimeter        900 non-null    float64\n",
            " 7   Class            900 non-null    object \n",
            "dtypes: float64(5), int64(2), object(1)\n",
            "memory usage: 56.4+ KB\n"
          ]
        }
      ]
    },
    {
      "cell_type": "code",
      "source": [
        "# Convert columns to numeric\n",
        "data['Class'] = data['Class'].str.replace('Kecimen', '0')\n",
        "data['Class'] = data['Class'].str.replace('Besni', '1')\n",
        "\n",
        "cols = data.columns\n",
        "data[cols] = data[cols].apply(pd.to_numeric, errors='coerce')\n",
        "\n",
        "# Data frame structure\n",
        "data.info()"
      ],
      "metadata": {
        "colab": {
          "base_uri": "https://localhost:8080/"
        },
        "id": "O9Cud3heuFc7",
        "outputId": "f785746d-2b49-4ab0-fddd-fa0071663fb5"
      },
      "execution_count": null,
      "outputs": [
        {
          "output_type": "stream",
          "name": "stdout",
          "text": [
            "<class 'pandas.core.frame.DataFrame'>\n",
            "RangeIndex: 900 entries, 0 to 899\n",
            "Data columns (total 8 columns):\n",
            " #   Column           Non-Null Count  Dtype  \n",
            "---  ------           --------------  -----  \n",
            " 0   Area             900 non-null    int64  \n",
            " 1   MajorAxisLength  900 non-null    float64\n",
            " 2   MinorAxisLength  900 non-null    float64\n",
            " 3   Eccentricity     900 non-null    float64\n",
            " 4   ConvexArea       900 non-null    int64  \n",
            " 5   Extent           900 non-null    float64\n",
            " 6   Perimeter        900 non-null    float64\n",
            " 7   Class            900 non-null    int64  \n",
            "dtypes: float64(5), int64(3)\n",
            "memory usage: 56.4 KB\n"
          ]
        }
      ]
    },
    {
      "cell_type": "code",
      "source": [
        "# Classes are distrubuted evenly\n",
        "data['Class'].value_counts()"
      ],
      "metadata": {
        "colab": {
          "base_uri": "https://localhost:8080/"
        },
        "id": "59cKpTiiuI0I",
        "outputId": "bb1e7960-1941-4ea1-d1f8-18a6404b6fe6"
      },
      "execution_count": null,
      "outputs": [
        {
          "output_type": "execute_result",
          "data": {
            "text/plain": [
              "0    450\n",
              "1    450\n",
              "Name: Class, dtype: int64"
            ]
          },
          "metadata": {},
          "execution_count": 5
        }
      ]
    },
    {
      "cell_type": "code",
      "source": [
        "# Data for SVM\n",
        "X = data\n",
        "X = X.drop(['Class'], axis = 1)\n",
        "Y = data.Class # class\n"
      ],
      "metadata": {
        "id": "V5eqz03uuK1o"
      },
      "execution_count": null,
      "outputs": []
    },
    {
      "cell_type": "code",
      "source": [
        "# Parameters for classificator - rbf kernel\n",
        "gamma = [0.0005, 0.005, 0.01, 0.05, 0.2, 0.8, 1.5, 2.5, 5, 10, 20, 50, 100]\n",
        "gamma = np.array(gamma)\n",
        "C = [1, 10, 100, 1000, 10000, 100000]\n",
        "C = np.array(C)"
      ],
      "metadata": {
        "id": "P1bcUQtFubKK"
      },
      "execution_count": null,
      "outputs": []
    },
    {
      "cell_type": "code",
      "source": [
        "# Tables to save accuracy - rbf kernel\n",
        "Accuracy_CV = np.zeros((10,1))\n",
        "Accuracy = np.zeros((len(gamma), len(C)))\n",
        "\n",
        "# SVM - rbf kernel\n",
        "for i in range(0, len(C)): # C\n",
        "    for j in range(0, len(gamma)): # gamma\n",
        "        for k in range(1, 10): # Crossvalidation\n",
        "            # Split data into test and train sets\n",
        "            X_train, X_test, Y_train, Y_test = train_test_split(X, Y, test_size = 0.10) # 10 times cs so test_size is 10% of data set\n",
        "\n",
        "            # Standarization\n",
        "            sc = StandardScaler()\n",
        "            sc.fit(X_train)\n",
        "            X_train = sc.transform(X_train)\n",
        "            X_test = sc.transform(X_test)\n",
        "            X_train = pd.DataFrame(X_train)\n",
        "            X_test = pd.DataFrame(X_test)\n",
        "\n",
        "            # Model\n",
        "            svclassifier = SVC(kernel = 'rbf', C = C[i], gamma = gamma[j])\n",
        "\n",
        "            svclassifier.fit(X_train, Y_train)\n",
        "            y_pred = svclassifier.predict(X_test)\n",
        "\n",
        "            # Accuracy - how many values from y_pred are equal to Y_test\n",
        "            Accuracy_CV[k] = sum(y_pred == Y_test)/len(Y_test)\n",
        "\n",
        "        Accuracy[j,i] = np.mean(Accuracy_CV) # rows - gamma, columns - C\n",
        "\n",
        "Accuracy # display accuracy table"
      ],
      "metadata": {
        "colab": {
          "base_uri": "https://localhost:8080/"
        },
        "id": "2y4FbunNucX9",
        "outputId": "a47a4927-e036-4e43-d938-c493fc120c22"
      },
      "execution_count": null,
      "outputs": [
        {
          "output_type": "execute_result",
          "data": {
            "text/plain": [
              "array([[0.76444444, 0.78      , 0.78777778, 0.78888889, 0.79333333,\n",
              "        0.79111111],\n",
              "       [0.80222222, 0.77444444, 0.77222222, 0.76111111, 0.79222222,\n",
              "        0.76666667],\n",
              "       [0.77777778, 0.78222222, 0.78      , 0.79444444, 0.78777778,\n",
              "        0.78444444],\n",
              "       [0.78444444, 0.76777778, 0.79333333, 0.80888889, 0.76      ,\n",
              "        0.77444444],\n",
              "       [0.77666667, 0.77222222, 0.75888889, 0.77      , 0.75666667,\n",
              "        0.75      ],\n",
              "       [0.78777778, 0.78777778, 0.76444444, 0.73222222, 0.71555556,\n",
              "        0.70777778],\n",
              "       [0.77666667, 0.77777778, 0.73888889, 0.74444444, 0.73888889,\n",
              "        0.72555556],\n",
              "       [0.77222222, 0.75111111, 0.72111111, 0.72555556, 0.71888889,\n",
              "        0.70666667],\n",
              "       [0.75555556, 0.72555556, 0.73777778, 0.70222222, 0.70888889,\n",
              "        0.72111111],\n",
              "       [0.73888889, 0.72555556, 0.74333333, 0.70222222, 0.70888889,\n",
              "        0.72      ],\n",
              "       [0.67666667, 0.68888889, 0.67777778, 0.68777778, 0.69444444,\n",
              "        0.68777778],\n",
              "       [0.62888889, 0.64888889, 0.63777778, 0.62555556, 0.61222222,\n",
              "        0.61      ],\n",
              "       [0.53444444, 0.50888889, 0.53666667, 0.53      , 0.52333333,\n",
              "        0.54666667]])"
            ]
          },
          "metadata": {},
          "execution_count": 8
        }
      ]
    },
    {
      "cell_type": "code",
      "source": [
        "# rbf kernel accuracy plot\n",
        "# axis X - gamma, different lines - C\n",
        "for p in range(0, len(C)): # number of lines = number of C values\n",
        "    plt.plot(Accuracy[:,p], label = C[p]) # every line plotted separately in order to have a name\n",
        "plt.xlabel('Gamma')\n",
        "plt.ylabel('Accuracy')\n",
        "plt.xticks(np.arange(len(gamma)), gamma) # correct axis X ticks\n",
        "plt.legend(title = 'C')\n",
        "\n"
      ],
      "metadata": {
        "colab": {
          "base_uri": "https://localhost:8080/",
          "height": 297
        },
        "id": "4SxQolT3uhxd",
        "outputId": "61b2f90b-d50c-4d7b-fa3d-7c1cefb1167e"
      },
      "execution_count": null,
      "outputs": [
        {
          "output_type": "execute_result",
          "data": {
            "text/plain": [
              "<matplotlib.legend.Legend at 0x7f6282fa8760>"
            ]
          },
          "metadata": {},
          "execution_count": 9
        },
        {
          "output_type": "display_data",
          "data": {
            "text/plain": [
              "<Figure size 432x288 with 1 Axes>"
            ],
            "image/png": "[encoded data removed]"
          },
          "metadata": {
            "needs_background": "light"
          }
        }
      ]
    },
    {
      "cell_type": "code",
      "source": [
        "C = [1, 10, 100, 1000, 10000, 100000]\n",
        "C = np.array(C)\n",
        "\n",
        "k_range = 10\n",
        "Accuracy_CV2 = np.zeros((len(C),2))\n",
        "Accuracy_rbf2 = np.zeros((k_range,2))\n",
        "# SVM - rbf kernel - k is outside loop\n",
        "for k in range(0, k_range):\n",
        "    # Split data into test and train sets\n",
        "    X_train_rbf2, X_test_rbf2, Y_train_rbf2, Y_test_rbf2 = train_test_split(X, Y, test_size = k_range/100) # 10 times cs so test_size is 10% of data set\n",
        "\n",
        "    # Standarization\n",
        "    sc = StandardScaler()\n",
        "    sc.fit(X_train_rbf2)\n",
        "    X_train_rbf2 = sc.transform(X_train_rbf2)\n",
        "    X_test_rbf2 = sc.transform(X_test_rbf2)\n",
        "    X_train_rbf2 = pd.DataFrame(X_train_rbf2)\n",
        "    X_test_rbf2 = pd.DataFrame(X_test_rbf2)\n",
        "\n",
        "    for i in range(0, len(C)):\n",
        "        # Model\n",
        "        svclassifier = SVC(kernel = 'rbf', C = C[i], gamma = 0.05) # gamma constant\n",
        "        svclassifier.fit(X_train_rbf2, Y_train_rbf2)\n",
        "        y_pred_rbf2 = svclassifier.predict(X_test_rbf2)\n",
        "\n",
        "        # Accuracy\n",
        "        Accuracy_CV2[i,0] = sum(y_pred_rbf2 == Y_test_rbf2)/len(Y_test_rbf2)\n",
        "        Accuracy_CV2[i,1] = C[i]\n",
        "\n",
        "    Accuracy_rbf2[k,0] = np.max(Accuracy_CV2[:,0]) # best accuracy\n",
        "    id_max = np.argmax(Accuracy_CV2[:,0], axis=0)\n",
        "    Accuracy_rbf2[k,1] = Accuracy_CV2[id_max,1] # C for best acuracy\n",
        "\n",
        "print(\"Accuracy table:\\n\", Accuracy_rbf2) # display accuracy table"
      ],
      "metadata": {
        "colab": {
          "base_uri": "https://localhost:8080/"
        },
        "id": "8J9CiEanviNp",
        "outputId": "7f4d9117-cbe8-4dbc-ea19-b2274dcfafe5"
      },
      "execution_count": null,
      "outputs": [
        {
          "output_type": "stream",
          "name": "stdout",
          "text": [
            "Accuracy table:\n",
            " [[9.11111111e-01 1.00000000e+02]\n",
            " [8.88888889e-01 1.00000000e+03]\n",
            " [8.11111111e-01 1.00000000e+00]\n",
            " [8.88888889e-01 1.00000000e+00]\n",
            " [8.88888889e-01 1.00000000e+00]\n",
            " [8.77777778e-01 1.00000000e+00]\n",
            " [9.00000000e-01 1.00000000e+01]\n",
            " [9.00000000e-01 1.00000000e+01]\n",
            " [8.88888889e-01 1.00000000e+05]\n",
            " [8.77777778e-01 1.00000000e+00]]\n"
          ]
        }
      ]
    },
    {
      "cell_type": "code",
      "source": [
        "# Average accuracy\n",
        "Accuracy_mean = np.mean(Accuracy_rbf2[:,0])\n",
        "print(\"Mean accuracy =\", Accuracy_mean)"
      ],
      "metadata": {
        "colab": {
          "base_uri": "https://localhost:8080/"
        },
        "id": "wiGCIgi2vkUy",
        "outputId": "f7afd8c2-df70-4bc0-e483-514360ae10a8"
      },
      "execution_count": null,
      "outputs": [
        {
          "output_type": "stream",
          "name": "stdout",
          "text": [
            "Mean accuracy = 0.8833333333333334\n"
          ]
        }
      ]
    },
    {
      "cell_type": "code",
      "source": [
        "# Accuracy closest to average accuracy\n",
        "Accuarcy_roznica = Accuracy_rbf2[:,0] - Accuracy_mean\n",
        "Accuarcy_roznica = abs(Accuarcy_roznica)\n",
        "id_min = np.argmin(Accuarcy_roznica, axis=0)\n",
        "avg_acc_C = Accuracy_rbf2[id_min, 1]\n",
        "avg_acc = Accuracy_rbf2[id_min, 0]\n",
        "print(\"C for value closest to average accuracy:\",avg_acc_C)"
      ],
      "metadata": {
        "colab": {
          "base_uri": "https://localhost:8080/"
        },
        "id": "KILOLZ-nv7Z1",
        "outputId": "8e2bf9dd-d3fe-481d-df0a-31486b1823c7"
      },
      "execution_count": null,
      "outputs": [
        {
          "output_type": "stream",
          "name": "stdout",
          "text": [
            "C for value closest to average accuracy: 1000.0\n"
          ]
        }
      ]
    },
    {
      "cell_type": "code",
      "source": [
        "# Split\n",
        "X_train_last, X_test_last, Y_train_last, Y_test_last = train_test_split(X, Y, test_size = 0.10)\n",
        "\n",
        "# Standarization\n",
        "sc = StandardScaler()\n",
        "sc.fit(X_train_last)\n",
        "X_train_last = sc.transform(X_train_last)\n",
        "X_test_last = sc.transform(X_test_last)\n",
        "X_train_last = pd.DataFrame(X_train_last)\n",
        "X_test_last = pd.DataFrame(X_test_last)\n",
        "\n",
        "# ModelC[i]\n",
        "svclassifier = SVC(kernel = 'rbf', C = avg_acc_C, gamma = 0.05)\n",
        "\n",
        "svclassifier.fit(X_train_last, Y_train_last)\n",
        "y_pred_last = svclassifier.predict(X_test_last)\n",
        "\n",
        "# Accuracy - how many values from y_pred are equal to Y_test\n",
        "Accuracy_CV_last = sum(y_pred_last == Y_test_last)/len(Y_test_last)\n",
        "print(\"Accuracy:\", Accuracy_CV_last)"
      ],
      "metadata": {
        "colab": {
          "base_uri": "https://localhost:8080/"
        },
        "id": "9HAnCWaLwBXh",
        "outputId": "28fbde67-8374-454f-d3a4-bf4b0a8c02d6"
      },
      "execution_count": null,
      "outputs": [
        {
          "output_type": "stream",
          "name": "stdout",
          "text": [
            "Accuracy: 0.8333333333333334\n"
          ]
        }
      ]
    },
    {
      "cell_type": "code",
      "source": [
        "print(classification_report(Y_test_last, y_pred_last, target_names=['Besni', 'Kecimen']))"
      ],
      "metadata": {
        "colab": {
          "base_uri": "https://localhost:8080/"
        },
        "id": "QDvB1dmzwCvD",
        "outputId": "98d00db4-d95d-4831-c5c0-0a783ce6e92f"
      },
      "execution_count": null,
      "outputs": [
        {
          "output_type": "stream",
          "name": "stdout",
          "text": [
            "              precision    recall  f1-score   support\n",
            "\n",
            "       Besni       0.73      1.00      0.84        40\n",
            "     Kecimen       1.00      0.70      0.82        50\n",
            "\n",
            "    accuracy                           0.83        90\n",
            "   macro avg       0.86      0.85      0.83        90\n",
            "weighted avg       0.88      0.83      0.83        90\n",
            "\n"
          ]
        }
      ]
    }
  ]
}